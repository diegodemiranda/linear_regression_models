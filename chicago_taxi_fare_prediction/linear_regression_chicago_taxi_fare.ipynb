{
  "nbformat": 4,
  "nbformat_minor": 0,
  "metadata": {
    "colab": {
      "provenance": [],
      "authorship_tag": "ABX9TyN0Lcj3nOfnZvcsUkZRwjYI",
      "include_colab_link": true
    },
    "kernelspec": {
      "name": "python3",
      "display_name": "Python 3"
    },
    "language_info": {
      "name": "python"
    }
  },
  "cells": [
    {
      "cell_type": "markdown",
      "metadata": {
        "id": "view-in-github",
        "colab_type": "text"
      },
      "source": [
        "<a href=\"https://colab.research.google.com/github/diegodemiranda/linear_regression_models/blob/main/chicago_taxi_fare_prediction/linear_regression_chicago_taxi_fare.ipynb\" target=\"_parent\"><img src=\"https://colab.research.google.com/assets/colab-badge.svg\" alt=\"Open In Colab\"/></a>"
      ]
    },
    {
      "cell_type": "markdown",
      "source": [
        "\n",
        "## Linear Regression - Chicago Taxi fare ride\n",
        "\n",
        "With this notebook we will use a dataset to train a model to predict the fare of a taxi ride in Chicago, Illinois."
      ],
      "metadata": {
        "id": "O9NOMZ5zwHo2"
      }
    },
    {
      "cell_type": "markdown",
      "source": [
        "# Part 1 - Setup the Environment\n",
        "\n",
        "\n",
        "---"
      ],
      "metadata": {
        "id": "oit-sCvix_D1"
      }
    },
    {
      "cell_type": "markdown",
      "source": [
        "#### Load dependencies\n",
        "\n",
        "The model depends on several Python libraries to help with data manipulation, machine learning tasks, and data visualization."
      ],
      "metadata": {
        "id": "emmsv1sQvBh2"
      }
    },
    {
      "cell_type": "code",
      "execution_count": null,
      "metadata": {
        "id": "Jxj5ep4-urZt"
      },
      "outputs": [],
      "source": [
        "#general\n",
        "import io\n",
        "\n",
        "# data\n",
        "import numpy as np\n",
        "import pandas as pd\n",
        "\n",
        "# machine learning\n",
        "import keras\n",
        "\n",
        "# data visualization\n",
        "import plotly.express as px\n",
        "from plotly.subplots import make_subplots\n",
        "import plotly.graph_objects as go\n",
        "import seaborn as sns"
      ]
    },
    {
      "cell_type": "markdown",
      "source": [
        "#### Load the dataset\n",
        "The following code cell loads the dataset and creates a pandas DataFrame."
      ],
      "metadata": {
        "id": "M-6A7uErvECm"
      }
    },
    {
      "cell_type": "code",
      "source": [
        "chicago_taxi_dataset = pd.read_csv(\"chicago_taxi_train.csv\")\n",
        "\n",
        "training_df = chicago_taxi_dataset[['TRIP_MILES', 'TRIP_SECONDS', 'FARE', 'COMPANY', 'PAYMENT_TYPE', 'TIP_RATE']]\n",
        "\n",
        "print('Read dataset completed successfully.')\n",
        "print('Total number of rows: {0}\\n\\n'.format(len(training_df.index)))\n",
        "\n",
        "training_df.head(200)"
      ],
      "metadata": {
        "id": "C-DC6VTXu8hD"
      },
      "execution_count": null,
      "outputs": []
    },
    {
      "cell_type": "markdown",
      "source": [
        "# Part 2 - Dataset Exploration\n",
        "\n",
        "\n",
        "---\n",
        "\n"
      ],
      "metadata": {
        "id": "UAcbzkl0yI1G"
      }
    },
    {
      "cell_type": "markdown",
      "source": [
        "### View dataset statistics\n",
        "\n",
        " In this step, I will use the `DataFrame.describe` method to view **descriptive statistics** about the dataset and answer some important questions about the data."
      ],
      "metadata": {
        "id": "bUtbZj7xyxv4"
      }
    },
    {
      "cell_type": "code",
      "source": [
        "training_df.describe(include='all')"
      ],
      "metadata": {
        "id": "Tu8SzOv_yOFA"
      },
      "execution_count": null,
      "outputs": []
    },
    {
      "cell_type": "markdown",
      "source": [
        "### View correlation matrix\n",
        "\n",
        "In this step, I will use a **correlation matrix** to identify features whose values correlate well with the label. In essence, finding out how strongly related the numerical features of the taxi trip data are to each other.\n",
        "\n",
        "Correlation values have the following meanings:\n",
        "\n",
        "* **+1**: Perfect positive correlation (as one feature increases, the other increases proportionally)\n",
        "* **-1**: Perfect negative correlation (as one feature increases, the other decreases proportionally)\n",
        "* **0**: No linear correlation (no relationship between the features).\n",
        "\n",
        "In general, the higher the absolute value of a correlation value, the greater its predictive power.\n",
        "The correlation **does not imply causality**. The correlation matrix only captures **linear relationships**. If the relationship between the variables is non-linear, the correlation can be close to 0, even if there is a strong relationship."
      ],
      "metadata": {
        "id": "7tRzsuN94l42"
      }
    },
    {
      "cell_type": "code",
      "source": [
        "training_df.corr(numeric_only = True)"
      ],
      "metadata": {
        "id": "Tltcz7uj4Oqp"
      },
      "execution_count": null,
      "outputs": []
    }
  ]
}